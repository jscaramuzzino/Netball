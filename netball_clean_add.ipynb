{
 "cells": [
  {
   "cell_type": "code",
   "execution_count": 1,
   "metadata": {},
   "outputs": [],
   "source": [
    "import pandas as pd\n",
    "import numpy as np\n",
    "import math\n",
    "import seaborn as sns\n",
    "import matplotlib.pyplot as plt"
   ]
  },
  {
   "cell_type": "code",
   "execution_count": null,
   "metadata": {},
   "outputs": [],
   "source": [
    "\n",
    "gameIDs = []\n",
    "season_games = pd.read_csv('netball.csv')\n",
    "dfdup = season_games[season_games.duplicated()]\n",
    "df_dropped = season_games.drop_duplicates()\n",
    "df_dropped = df_dropped.reset_index()\n",
    "for index, row in df_dropped.iterrows():\n",
    "    gameIDs.append(str(index))\n",
    "df_dropped['GameIDs'] = gameIDs"
   ]
  },
  {
   "cell_type": "code",
   "execution_count": null,
   "metadata": {},
   "outputs": [],
   "source": [
    "datetime  = [row['Date'].split()[-2:]  for index,row in df_dropped.iterrows()]\n",
    "for  index,row in df_dropped.iterrows():\n",
    "  year = int(row['Season'])\n",
    "  datetime[index].append(year)"
   ]
  },
  {
   "cell_type": "code",
   "execution_count": null,
   "metadata": {},
   "outputs": [],
   "source": [
    "def months_as_num(date_list):\n",
    "    months = []\n",
    "    for i in range(len(date_list)):\n",
    "        if date_list[i][1][:3].lower() == 'jan':\n",
    "            months.append(1)\n",
    "        if date_list[i][1][:3].lower() == 'feb':\n",
    "            months.append(2)\n",
    "        if date_list[i][1][:3].lower() == 'mar':\n",
    "            months.append(3)\n",
    "        if date_list[i][1][:3].lower() == 'apr':\n",
    "            months.append(4)\n",
    "        if date_list[i][1][:3].lower() == 'may':\n",
    "            months.append(5)\n",
    "        if date_list[i][1][:3].lower() == 'jun':\n",
    "            months.append(6)\n",
    "        if date_list[i][1][:3].lower() == 'jul':\n",
    "            months.append(7)\n",
    "        if date_list[i][1][:3].lower() == 'aug':\n",
    "            months.append(8)\n",
    "        if date_list[i][1][:3].lower() == 'sep':\n",
    "            months.append(9)\n",
    "        if date_list[i][1][:3].lower() == 'oct':\n",
    "            months.append(10)\n",
    "        if date_list[i][1][:3].lower() == 'nov':\n",
    "            months.append(11)\n",
    "        if date_list[i][1][:3].lower() == 'dec':\n",
    "            months.append(12)\n",
    "    return months\n",
    "def list_as_nums(date_list,col):\n",
    "    nums = []\n",
    "    for i in range(len(date_list)):\n",
    "        nums.append(int(date_list[i][col]))\n",
    "    return nums"
   ]
  },
  {
   "cell_type": "code",
   "execution_count": null,
   "metadata": {},
   "outputs": [],
   "source": [
    "days = []\n",
    "years = []\n",
    "months = []\n",
    "days = list_as_nums(datetime,0)\n",
    "years = list_as_nums(datetime,2)\n",
    "months = months_as_num(datetime)\n",
    "datedf = pd.to_datetime({'year':years,'month':months,'day':days})\n"
   ]
  },
  {
   "cell_type": "code",
   "execution_count": null,
   "metadata": {},
   "outputs": [],
   "source": [
    "def drops_cols(df,cols):\n",
    "    return df.drop(columns=cols)\n",
    "cols_to_drop = ['Date']\n",
    "netball_df = drops_cols(df_dropped,cols_to_drop)\n",
    "netball_df['Date'] = datedf\n",
    "netball_df.head()"
   ]
  },
  {
   "cell_type": "code",
   "execution_count": null,
   "metadata": {},
   "outputs": [],
   "source": [
    "def expected_win_prob(elo_h,elo_a,home_court):\n",
    "    home_elo_adjusted = elo_h + home_court\n",
    "    \n",
    "    power_component_h = math.pow(10,(elo_a - home_elo_adjusted)/400)\n",
    "    # print(home_elo_adjusted - elo_a)\n",
    "    power_component_a = math.pow(10,(home_elo_adjusted - elo_a)/400)\n",
    "\n",
    "    denom_h = 1 + power_component_h\n",
    "    denom_a = 1 + power_component_a\n",
    "\n",
    "    num = 1\n",
    "\n",
    "    win_prob_h = num / denom_h\n",
    "    win_prob_a = num / denom_a\n",
    "\n",
    "    return win_prob_h, win_prob_a\n",
    "\n",
    "def k_calc(MOV,elo_diff):\n",
    "    k = 20\n",
    "    denom = 7.5 + 0.006*(elo_diff)\n",
    "    num = math.pow(MOV+3,.8)\n",
    "    multi = k*num/denom\n",
    "    return multi\n",
    "\n",
    "def update_elo(elo_h,elo_a,home_court,score_h,score_a):\n",
    "    home_win_prob, away_win_prob = expected_win_prob(elo_h,elo_a,home_court)\n",
    "\n",
    "    if score_h > score_a:\n",
    "        mov = score_h-score_a\n",
    "        s_h = 1\n",
    "        s_a = 0\n",
    "        elo_diff = elo_h-elo_a\n",
    "    else:\n",
    "        mov = score_a-score_h\n",
    "        s_h = 0\n",
    "        s_a = 1\n",
    "        elo_diff = elo_a-elo_h\n",
    "    k = k_calc(mov,elo_diff)\n",
    "\n",
    "    updated_home_elo = elo_h + k*(s_h - home_win_prob) \n",
    "    updated_away_elo = elo_a + k*(s_a - away_win_prob)\n",
    "\n",
    "    return updated_home_elo,updated_away_elo"
   ]
  },
  {
   "cell_type": "code",
   "execution_count": null,
   "metadata": {},
   "outputs": [],
   "source": [
    "for index, row in netball_df.iterrows():\n",
    "    if row['Team_A'] == 'Northern Mystics (Note 5)':\n",
    "        print(index)\n",
    "netball_df.at[42,'Team_A'] = 'Northern Mystics'"
   ]
  },
  {
   "cell_type": "code",
   "execution_count": null,
   "metadata": {},
   "outputs": [],
   "source": [
    "def getEloBefore(team,elo_df,season,netball_df,date):\n",
    "    if (team not in elo_df['Team_H'].values and team not in elo_df['Team_A'].values):\n",
    "        return 1500\n",
    "    for index, row in elo_df.iloc[::-1].iterrows():\n",
    "        if row['Team_H'] == team:\n",
    "            before_elo = row['H_elo_After']\n",
    "            prev_season = int(netball_df[netball_df['Date'] < date]\n",
    "                            [(netball_df['Team_H'] == team) | (netball_df['Team_A'] == team)].tail(1)['Season']\n",
    "                            .iloc[0])\n",
    "            break\n",
    "        elif row['Team_A'] == team:\n",
    "            before_elo = row['A_elo_After']\n",
    "            prev_season = int(netball_df[netball_df['Date'] < date]\n",
    "                [(netball_df['Team_H'] == team) | (netball_df['Team_A'] == team)].tail(1)['Season']\n",
    "                .iloc[0])\n",
    "            break\n",
    "    if prev_season != season:\n",
    "        return (0.75 * before_elo) + (0.25 * 1505)\n",
    "    else:\n",
    "        return before_elo\n",
    "    "
   ]
  },
  {
   "cell_type": "code",
   "execution_count": null,
   "metadata": {},
   "outputs": [],
   "source": [
    "elo_df = pd.DataFrame(columns=['GAME_ID','Team_H','Team_A','H_elo_Before','A_elo_Before','H_elo_After','A_elo_After'])\n",
    "all_elo_df = pd.DataFrame(columns=['GAME_ID','Team','Elo','Season'])\n",
    "for index, row in netball_df.iterrows():\n",
    "    game_id = row['GameIDs']\n",
    "    h_team = row['Team_H']\n",
    "    h_score = row['Score_H']\n",
    "    a_team = row['Team_A']\n",
    "    a_score = row['Score_A']\n",
    "    season = int(row['Season'])\n",
    "    date = row['Date']\n",
    "\n",
    "    elo_before_home = getEloBefore(h_team,elo_df,season,netball_df,date)\n",
    "    elo_before_away = getEloBefore(a_team,elo_df,season,netball_df,date)\n",
    "\n",
    "    elo_after_home, elo_after_away = update_elo(elo_before_home,elo_before_away,69,h_score,a_score)\n",
    "\n",
    "    elo_df_new_row = {'GAME_ID':game_id,'Team_H':h_team,'Team_A':a_team,'H_elo_Before':elo_before_home,\n",
    "                        'A_elo_Before':elo_before_away,'H_elo_After':elo_after_home,                                                'A_elo_After':elo_after_away}\n",
    "                        \n",
    "    all_elo_df_new_row_one = {'GAME_ID':game_id,'Team':h_team,'Elo':elo_before_home,'Date':date}\n",
    "    all_elo_df_new_row_two = {'GAME_ID':game_id,'Team':a_team,'Elo':elo_before_away,'Date':date}\n",
    "\n",
    "    elo_df = elo_df.append(elo_df_new_row, ignore_index=True)\n",
    "    all_elo_df = all_elo_df.append(all_elo_df_new_row_one,ignore_index=True)\n",
    "    all_elo_df = all_elo_df.append(all_elo_df_new_row_two,ignore_index=True)\n",
    "\n"
   ]
  },
  {
   "cell_type": "code",
   "execution_count": null,
   "metadata": {},
   "outputs": [],
   "source": [
    "teams = netball_df['Team_H'].unique()"
   ]
  },
  {
   "cell_type": "code",
   "execution_count": null,
   "metadata": {},
   "outputs": [],
   "source": [
    "import random\n",
    "import seaborn as sns\n",
    "all_elo_df['Elo'] = all_elo_df['Elo'].astype('float')\n",
    "\n",
    "def runningMeanFast(x,N):\n",
    "    return np.convolve(x, np.ones((N,))/N)[(N-1):]\n",
    "elos = all_elo_df['Elo'].values\n",
    "plt.figure(figsize=(20,10))\n",
    "samples_teams = random.sample(list(teams),k=3)\n",
    "sns.set(font_scale=1.5)\n",
    "sampled_data = all_elo_df.loc[all_elo_df['Team'].isin(samples_teams)]\n",
    "sns.lineplot(data=sampled_data,x='Date',y='Elo',hue='Team')\n",
    "plt.title('Elo over time')"
   ]
  },
  {
   "cell_type": "code",
   "execution_count": null,
   "metadata": {},
   "outputs": [],
   "source": [
    "elo_df = elo_df.rename(columns={'GAME_ID':'GameIDs'})\n",
    "elo_df.head()\n",
    "netball_df.head()"
   ]
  },
  {
   "cell_type": "code",
   "execution_count": null,
   "metadata": {},
   "outputs": [],
   "source": [
    "def get_average_stats(team, game_date, season_team_stats,n):\n",
    "    prev_games_df = season_team_stats[season_team_stats['Date'] < game_date][(season_team_stats['Team_H'] == team) |\n",
    "    (season_team_stats['Team_A'] == team)].tail(n)\n",
    "    \n",
    "    if prev_games_df.empty:\n",
    "        data = {'Score':0,'Against':0}\n",
    "        team_df = pd.Series(data=data,index=['Score','Against'])\n",
    "        return team_df    \n",
    "    h_df = prev_games_df.iloc[:,[1,2]]\n",
    "    h_df.columns = [x[:-2] for x in h_df.columns]\n",
    "    a_df = prev_games_df.iloc[:,[3,4]]\n",
    "    a_df.columns = [x[:-2] for x in a_df.columns]\n",
    "    \n",
    "    ah_df = pd.concat([h_df,a_df])\n",
    "    opposition_scores_df = ah_df[ah_df['Team'] != team]\n",
    "    opposition_scores_df.drop(columns='Team', inplace=True)\n",
    "    opposition_scores_df = opposition_scores_df.rename(columns={'Score':'Against'})\n",
    "    ah_df = ah_df[ah_df['Team'] == team]\n",
    "    ah_df.drop(columns='Team', inplace=True)\n",
    "    ah_df = pd.concat([ah_df,opposition_scores_df])\n",
    "    return ah_df.mean()\n",
    "\n",
    "average_stats = get_average_stats('Melbourne Vixens',netball_df['Date'][50],netball_df,10)\n",
    "average_stats.index = ['H_last_10_AVG_'+ x for x in average_stats.index]\n"
   ]
  },
  {
   "cell_type": "code",
   "execution_count": null,
   "metadata": {},
   "outputs": [],
   "source": [
    "#Used for testing\n",
    "# pp = netball_df[netball_df['Date'] < netball_df['Date'][0]][(netball_df['Team_H'] == 'New South Wales Swifts') |\n",
    "#     (netball_df['Team_A'] == 'New South Wales Swifts')].tail(10)\n",
    "# if pp.empty:\n",
    "#     data = {'Score':0,'Against':0}\n",
    "#     team_df = pd.Series(data=data,index=['Score','Against'])\n",
    "#     print(team_df.head())\n",
    "#     print(type(team_df)) \n",
    "# h_df = pp.iloc[:,[1,2]]\n",
    "# h_df.columns = [x[:-2] for x in h_df.columns]\n",
    "# a_df = pp.iloc[:,[3,4]]\n",
    "# a_df.columns = [x[:-2] for x in a_df.columns]\n",
    "# ah_df = pd.concat([h_df,a_df])\n",
    "# opposition_scores_df = ah_df[ah_df['Team'] != 'New South Wales Swifts']\n",
    "# ah_df = ah_df[ah_df['Team'] == 'New South Wales Swifts']\n",
    "# ah_df.drop(columns='Team', inplace=True)\n",
    "# opposition_scores_df.drop(columns='Team', inplace=True)\n",
    "# opposition_scores_df = opposition_scores_df.rename(columns={'Score':'Against'})\n",
    "\n",
    "# ah_df = pd.concat([ah_df,opposition_scores_df])\n",
    "# mean = ah_df.mean()\n",
    "# print(mean)\n",
    "# print(type(mean))\n"
   ]
  },
  {
   "cell_type": "code",
   "execution_count": null,
   "metadata": {},
   "outputs": [],
   "source": [
    "recent_perforamnce = pd.DataFrame()\n",
    "\n",
    "for season in netball_df['Season'].unique():\n",
    "    temp_df = netball_df[netball_df['Season'] ==  season]\n",
    "    n = 10\n",
    "\n",
    "    season_recent_performance = pd.DataFrame()\n",
    "\n",
    "    for index,row in temp_df.iterrows():\n",
    "        game_id = row['GameIDs']\n",
    "        home_team = row['Team_H']\n",
    "        away_team = row['Team_A']\n",
    "        game_date = row['Date']\n",
    "\n",
    "        average_stats_home_team = get_average_stats(home_team, game_date, temp_df,n)\n",
    "        average_stats_away_team = get_average_stats(away_team, game_date, temp_df,n)\n",
    "        average_stats_home_team.index = ['H_last_10_AVG_'+ x for x in average_stats_home_team.index]\n",
    "        average_stats_away_team.index = ['A_last_10_AVG_'+ x for x in average_stats_away_team.index]\n",
    "        cols_H = [x for x in average_stats_home_team.index]\n",
    "        cols_A = [ x for x in average_stats_away_team.index]\n",
    "        cols_both = cols_H + cols_A\n",
    "        new_row = pd.concat([average_stats_home_team,average_stats_away_team])\n",
    "        new_row = new_row.T\n",
    "        new_row['GameIDs'] = game_id\n",
    "        season_recent_performance = season_recent_performance.append(new_row,ignore_index=True)\n",
    "    recent_perforamnce = pd.concat([recent_perforamnce,season_recent_performance])\n",
    "recent_perforamnce.head(15)"
   ]
  },
  {
   "cell_type": "code",
   "execution_count": null,
   "metadata": {},
   "outputs": [],
   "source": [
    "final_team_stats = netball_df.merge(elo_df.drop(columns=['Team_H','Team_A']),on='GameIDs') \\\n",
    "                     .merge(recent_perforamnce.dropna(), on = 'GameIDs')\n",
    "\n",
    "final_team_stats"
   ]
  },
  {
   "cell_type": "code",
   "execution_count": null,
   "metadata": {},
   "outputs": [],
   "source": [
    "recent_perforamnce = recent_perforamnce.dropna()"
   ]
  },
  {
   "cell_type": "code",
   "execution_count": null,
   "metadata": {},
   "outputs": [],
   "source": [
    "recent_perforamnce.isna().sum()"
   ]
  },
  {
   "cell_type": "code",
   "execution_count": null,
   "metadata": {},
   "outputs": [],
   "source": [
    "recent_perforamnce[recent_perforamnce['GameIDs'] == 2]"
   ]
  },
  {
   "cell_type": "code",
   "execution_count": null,
   "metadata": {},
   "outputs": [],
   "source": [
    "recent_perforamnce.reset_index()"
   ]
  },
  {
   "cell_type": "code",
   "execution_count": null,
   "metadata": {},
   "outputs": [],
   "source": [
    "import math\n",
    "def return_not_nan(a,b):\n",
    "    if math.isnan(a):\n",
    "        return b\n",
    "    return a"
   ]
  },
  {
   "cell_type": "code",
   "execution_count": null,
   "metadata": {},
   "outputs": [],
   "source": [
    "recent_perforamnce.head(1)['GameIDs']"
   ]
  },
  {
   "cell_type": "code",
   "execution_count": null,
   "metadata": {},
   "outputs": [],
   "source": [
    "temp_row_id = 8888\n",
    "temp_away_score = 0.0\n",
    "temp_home_score = 0.0\n",
    "count = 0\n",
    "for index,row in recent_perforamnce.iterrows():\n",
    "    game_id = row['GameIDs']\n",
    "    home_score = row['H_last_10_AVG_Score']\n",
    "    away_score = row['A_last_10_AVG_Score']\n",
    "    if game_id == temp_row_id:\n",
    "        new_home = return_not_nan(home_score,temp_home_score)\n",
    "        new_away = return_not_nan(away_score,temp_away_score)\n",
    "        recent_perforamnce['H_last_10_AVG_Score'][index] = new_home\n",
    "        recent_perforamnce['A_last_10_AVG_Score'][index] = new_away\n",
    "    temp_row_id = game_id\n",
    "    temp_home_score = home_score\n",
    "    temp_away_score = away_score\n"
   ]
  },
  {
   "cell_type": "code",
   "execution_count": null,
   "metadata": {},
   "outputs": [],
   "source": [
    "recent_perforamnce.dropna()"
   ]
  },
  {
   "cell_type": "code",
   "execution_count": null,
   "metadata": {},
   "outputs": [],
   "source": [
    "final_team_stats.head()"
   ]
  },
  {
   "cell_type": "code",
   "execution_count": null,
   "metadata": {},
   "outputs": [],
   "source": [
    "final_team_stats['home_win'] = (final_team_stats['Score_H'] > final_team_stats['Score_A']).astype(int)\n",
    "final_team_stats.head()"
   ]
  },
  {
   "cell_type": "code",
   "execution_count": null,
   "metadata": {},
   "outputs": [],
   "source": [
    "final_team_stats.to_csv('final_team_stats.csv',index=False)"
   ]
  },
  {
   "cell_type": "code",
   "execution_count": null,
   "metadata": {},
   "outputs": [],
   "source": []
  },
  {
   "cell_type": "code",
   "execution_count": null,
   "metadata": {},
   "outputs": [],
   "source": []
  }
 ],
 "metadata": {
  "interpreter": {
   "hash": "1e1aec8e4b301ce6fc636cde5b79ddffae3f809bf72d503a693147bf2acd7719"
  },
  "kernelspec": {
   "display_name": "Python 3.7.2 32-bit",
   "language": "python",
   "name": "python3"
  },
  "language_info": {
   "codemirror_mode": {
    "name": "ipython",
    "version": 3
   },
   "file_extension": ".py",
   "mimetype": "text/x-python",
   "name": "python",
   "nbconvert_exporter": "python",
   "pygments_lexer": "ipython3",
   "version": "3.7.2"
  },
  "orig_nbformat": 4
 },
 "nbformat": 4,
 "nbformat_minor": 2
}
