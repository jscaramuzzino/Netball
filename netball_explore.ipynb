{
 "cells": [
  {
   "cell_type": "code",
   "execution_count": 3,
   "metadata": {},
   "outputs": [],
   "source": [
    "import matplotlib.pyplot as plt\n",
    "import pandas as pd\n",
    "import numpy as np\n",
    "import seaborn as sns"
   ]
  },
  {
   "cell_type": "code",
   "execution_count": 4,
   "metadata": {},
   "outputs": [],
   "source": [
    "final_team_stats = pd.read_csv('final_team_stats.csv')\n"
   ]
  },
  {
   "cell_type": "code",
   "execution_count": null,
   "metadata": {},
   "outputs": [],
   "source": [
    "import random\n",
    "import seaborn as sns\n",
    "all_elo_df['Elo'] = all_elo_df['Elo'].astype('float')\n",
    "\n",
    "def runningMeanFast(x,N):\n",
    "    return np.convolve(x, np.ones((N,))/N)[(N-1):]\n",
    "elos = all_elo_df['Elo'].values\n",
    "plt.figure(figsize=(20,10))\n",
    "samples_teams = random.sample(list(teams),k=3)\n",
    "sns.set(font_scale=1.5)\n",
    "sampled_data = all_elo_df.loc[all_elo_df['Team'].isin(samples_teams)]\n",
    "sns.lineplot(data=sampled_data,x='Date',y='Elo',hue='Team')\n",
    "plt.title('Elo over time')\n"
   ]
  }
 ],
 "metadata": {
  "interpreter": {
   "hash": "1e1aec8e4b301ce6fc636cde5b79ddffae3f809bf72d503a693147bf2acd7719"
  },
  "kernelspec": {
   "display_name": "Python 3.7.2 32-bit",
   "language": "python",
   "name": "python3"
  },
  "language_info": {
   "codemirror_mode": {
    "name": "ipython",
    "version": 3
   },
   "file_extension": ".py",
   "mimetype": "text/x-python",
   "name": "python",
   "nbconvert_exporter": "python",
   "pygments_lexer": "ipython3",
   "version": "3.7.2"
  },
  "orig_nbformat": 4
 },
 "nbformat": 4,
 "nbformat_minor": 2
}
