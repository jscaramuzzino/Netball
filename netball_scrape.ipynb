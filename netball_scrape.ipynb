{
 "cells": [
  {
   "cell_type": "code",
   "execution_count": 1,
   "metadata": {},
   "outputs": [],
   "source": [
    "import pandas as pd\n",
    "import numpy as np\n",
    "import seaborn as sns\n",
    "import matplotlib.pyplot as plt\n",
    "from bs4 import BeautifulSoup\n",
    "from selenium.webdriver.common.by import By\n",
    "from selenium.webdriver.support.ui import WebDriverWait\n",
    "from selenium.webdriver.support import expected_conditions as EC\n",
    "from selenium import webdriver\n",
    "from selenium.webdriver.support.ui import Select\n",
    "options = webdriver.FirefoxOptions()\n",
    "options.add_argument('--headless')\n",
    "options.add_argument('--no-sandbox')\n",
    "options.add_argument('--disable-dev-shm-usage')"
   ]
  },
  {
   "cell_type": "code",
   "execution_count": 2,
   "metadata": {},
   "outputs": [],
   "source": [
    "driver = webdriver.Firefox(options=options)"
   ]
  },
  {
   "cell_type": "code",
   "execution_count": 3,
   "metadata": {},
   "outputs": [],
   "source": [
    "\n",
    "urls = ['https://en.wikipedia.org/wiki/2011_ANZ_Championship_season',\n",
    "        'https://en.wikipedia.org/wiki/2012_ANZ_Championship_season',\n",
    "        'https://en.wikipedia.org/wiki/2013_ANZ_Championship_season',\n",
    "        'https://en.wikipedia.org/wiki/2014_ANZ_Championship_season',\n",
    "        'https://en.wikipedia.org/wiki/2015_ANZ_Championship_season',\n",
    "        'https://en.wikipedia.org/wiki/2016_ANZ_Championship_season',\n",
    "        'https://en.wikipedia.org/wiki/2017_Suncorp_Super_Netball_season',\n",
    "        'https://en.wikipedia.org/wiki/2017_Suncorp_Super_Netball_season',\n",
    "        'https://en.wikipedia.org/wiki/2018_Suncorp_Super_Netball_season',\n",
    "        'https://en.wikipedia.org/wiki/2019_Suncorp_Super_Netball_season',\n",
    "        'https://en.wikipedia.org/wiki/2020_Suncorp_Super_Netball_season'\n",
    "]\n",
    "season_round = []\n",
    "for url in urls:\n",
    "    driver.get(url)\n",
    "    WebDriverWait(driver, 20).until(EC.visibility_of_element_located((By.ID, \"Regular_season\")))\n",
    "    year_of_season = int(url[30:34])\n",
    "    soup = BeautifulSoup(driver.page_source)\n",
    "    scores = soup.find('span',id='Regular_season').parent\n",
    "    for table in scores.find_next_siblings('table'):\n",
    "        try:\n",
    "            if 'mw-collapsible' not in table['class']:\n",
    "                break\n",
    "        except:\n",
    "            break\n",
    "        game = []\n",
    "        row = table.find('tr')\n",
    "        cells = row.find_all('td')\n",
    "        count = 0\n",
    "        for element in cells:\n",
    "            if count == 2:\n",
    "                if '-' in element.text.strip():\n",
    "                    game_score = element.text.strip().split('-')\n",
    "                else:    \n",
    "                    game_score = element.text.strip().split('–')\n",
    "                if len(game_score) >1:\n",
    "                    game.append(int(game_score[0].strip()))\n",
    "                    game.append(int(game_score[1].strip()))\n",
    "                count = 3\n",
    "            else:    \n",
    "                game.append(element.text.strip())\n",
    "            count += 1\n",
    "        game.append(year_of_season)    \n",
    "        season_round.append(game)"
   ]
  },
  {
   "cell_type": "code",
   "execution_count": null,
   "metadata": {},
   "outputs": [],
   "source": [
    "#Used for testing\n",
    "# game_urls = []\n",
    "# url = 'https://en.wikipedia.org/wiki/2012_ANZ_Championship_season'\n",
    "# driver.get(url)\n",
    "# WebDriverWait(driver, 20).until(EC.visibility_of_element_located((By.ID, \"Regular_season\")))\n",
    "# show_elements = driver.find_elements_by_class_name('mw-collapsible-text')\n",
    "# for element in show_elements:\n",
    "#     element.click()\n",
    "# stats_element =  driver.find_elements_by_link_text('Stats')\n",
    "# year_of_season = int(url[30:34])\n",
    "# soup = BeautifulSoup(driver.page_source)\n",
    "# scores = soup.find('span',id='Regular_season').parent\n",
    "    \n",
    "    "
   ]
  },
  {
   "cell_type": "code",
   "execution_count": null,
   "metadata": {},
   "outputs": [],
   "source": [
    "cols = ['Date','Team_H','Score_H','Score_A','Team_A','Location','Season']\n",
    "df = pd.DataFrame(season_round,columns=cols)\n",
    "for index, row in df.iterrows():\n",
    "    try:\n",
    "        int(row[2])\n",
    "    except:\n",
    "        df = df.drop(index)\n",
    "\n",
    "df.to_csv('netball.csv',index=False)"
   ]
  }
 ],
 "metadata": {
  "interpreter": {
   "hash": "1e1aec8e4b301ce6fc636cde5b79ddffae3f809bf72d503a693147bf2acd7719"
  },
  "kernelspec": {
   "display_name": "Python 3.7.2 32-bit",
   "language": "python",
   "name": "python3"
  },
  "language_info": {
   "codemirror_mode": {
    "name": "ipython",
    "version": 3
   },
   "file_extension": ".py",
   "mimetype": "text/x-python",
   "name": "python",
   "nbconvert_exporter": "python",
   "pygments_lexer": "ipython3",
   "version": "3.7.2"
  },
  "orig_nbformat": 4
 },
 "nbformat": 4,
 "nbformat_minor": 2
}
